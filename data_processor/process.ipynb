{
 "cells": [
  {
   "cell_type": "code",
   "execution_count": 1,
   "metadata": {},
   "outputs": [],
   "source": [
    "\n",
    "import polars as pl \n",
    "import os\n"
   ]
  },
  {
   "cell_type": "code",
   "execution_count": 14,
   "metadata": {},
   "outputs": [
    {
     "name": "stdout",
     "output_type": "stream",
     "text": [
      "shape: (17, 2)\n",
      "┌──────────┬─────────────────────┐\n",
      "│ chain_id ┆ chain_name          │\n",
      "│ ---      ┆ ---                 │\n",
      "│ i64      ┆ str                 │\n",
      "╞══════════╪═════════════════════╡\n",
      "│ 1        ┆ ethereum            │\n",
      "│ 56       ┆ binance_smart_chain │\n",
      "│ 137      ┆ polygon             │\n",
      "│ 8453     ┆ base                │\n",
      "│ 59144    ┆ linea               │\n",
      "│ …        ┆ …                   │\n",
      "│ 250      ┆ fantom              │\n",
      "│ 81457    ┆ blast               │\n",
      "│ 200901   ┆ bitlayer            │\n",
      "│ 196      ┆ xlayer              │\n",
      "│ 5000     ┆ mantle              │\n",
      "└──────────┴─────────────────────┘\n"
     ]
    },
    {
     "data": {
      "text/html": [
       "<div><style>\n",
       ".dataframe > thead > tr,\n",
       ".dataframe > tbody > tr {\n",
       "  text-align: right;\n",
       "  white-space: pre-wrap;\n",
       "}\n",
       "</style>\n",
       "<small>shape: (20, 1)</small><table border=\"1\" class=\"dataframe\"><thead><tr><th>chain_id</th></tr><tr><td>i64</td></tr></thead><tbody><tr><td>1116</td></tr><tr><td>100</td></tr><tr><td>8217</td></tr><tr><td>223</td></tr><tr><td>42170</td></tr><tr><td>&hellip;</td></tr><tr><td>25</td></tr><tr><td>1030</td></tr><tr><td>14</td></tr><tr><td>169</td></tr><tr><td>60808</td></tr></tbody></table></div>"
      ],
      "text/plain": [
       "shape: (20, 1)\n",
       "┌──────────┐\n",
       "│ chain_id │\n",
       "│ ---      │\n",
       "│ i64      │\n",
       "╞══════════╡\n",
       "│ 1116     │\n",
       "│ 100      │\n",
       "│ 8217     │\n",
       "│ 223      │\n",
       "│ 42170    │\n",
       "│ …        │\n",
       "│ 25       │\n",
       "│ 1030     │\n",
       "│ 14       │\n",
       "│ 169      │\n",
       "│ 60808    │\n",
       "└──────────┘"
      ]
     },
     "execution_count": 14,
     "metadata": {},
     "output_type": "execute_result"
    }
   ],
   "source": [
    "from itables import init_notebook_mode\n",
    "init_notebook_mode(all_interactive=True)\n",
    "file_name = os.path.join(\"..\", \"data\", \"source\", \"defilama_0813.xlsx\")\n",
    "# Try reading the Excel file with modified parameters\n",
    "chain_info = [\n",
    "    {\"chain_id\": 1, \"chain_name\": \"ethereum\"},\n",
    "    {\"chain_id\": 56, \"chain_name\": \"binance_smart_chain\"},\n",
    "    {\"chain_id\": 137, \"chain_name\": \"polygon\"},\n",
    "    {\"chain_id\": 8453, \"chain_name\": \"base\"},\n",
    "    {\"chain_id\": 59144, \"chain_name\": \"linea\"},\n",
    "    {\"chain_id\": 42161, \"chain_name\": \"arbitrum\"},\n",
    "    {\"chain_id\": 534352, \"chain_name\": \"scroll\"},\n",
    "    {\"chain_id\": 10, \"chain_name\": \"optimism\"},\n",
    "    {\"chain_id\": 204, \"chain_name\": \"opbnb\"},\n",
    "    {\"chain_id\": 167000, \"chain_name\": \"taiko\"},\n",
    "    {\"chain_id\": 34443, \"chain_name\": \"mode\"},\n",
    "    {\"chain_id\": 43114, \"chain_name\": \"avalanche\"},\n",
    "    {\"chain_id\": 250, \"chain_name\": \"fantom\"},\n",
    "    {\"chain_id\": 81457, \"chain_name\": \"blast\"},\n",
    "    {\"chain_id\": 200901, \"chain_name\": \"bitlayer\"},\n",
    "    {\"chain_id\": 196, \"chain_name\": \"xlayer\"},\n",
    "    {\"chain_id\": 5000, \"chain_name\": \"mantle\"}\n",
    "]\n",
    "df2 = pl.DataFrame(chain_info)\n",
    "print(df2)\n",
    "# protocol_id\tprotocol_name\ttvl\tversion_name\tchain_id\tcontract_address\tmethod_id\ttx_cnt\ttx_hash1\ttx_hash2\tdescription\trk\n",
    "\n",
    "SchemaDict = {\n",
    "    \"protocol_id\": pl.Int64,\n",
    "    \"protocol_name\": pl.Utf8,\n",
    "    \"tvl\": pl.Float64,\n",
    "    \"version_name\": pl.Utf8,\n",
    "    \"chain_id\": pl.Int64,\n",
    "    \"contract_address\": pl.Utf8,\n",
    "    \"method_id\": pl.Utf8,\n",
    "    \"tx_cnt\": pl.Int64,\n",
    "}\n",
    "df1=pl.read_excel(\n",
    "        source=file_name,\n",
    "        schema_overrides=SchemaDict,\n",
    "        infer_schema_length=None,\n",
    "    ) \n",
    "ctx = pl.SQLContext()\n",
    "ctx.register(\"df1\", df1)\n",
    "ctx.register(\"df2\", df2)\n",
    "sql = \"\"\"\n",
    "    select protocol_name,chain_id,contract_address,method_id,tx_cnt \n",
    "    from df1\n",
    "    where protocol_name in \n",
    "        ('gmx', 'curve', 'layerbank', 'pendle')\n",
    "    order by protocol_name, tvl desc, chain_id, tx_cnt desc\n",
    "\"\"\"\n",
    "\n",
    "sql = \"\"\"\n",
    "    with required_chains as (\n",
    "        select df1.chain_id\n",
    "        from df1\n",
    "        group by df1.chain_id\n",
    "    ),\n",
    "    supported_chains as (\n",
    "        select df2.chain_id\n",
    "        from df2\n",
    "    ),\n",
    "    unsupported_chains as (\n",
    "        select required_chains.chain_id\n",
    "        from required_chains\n",
    "        where required_chains.chain_id not in (select supported_chains.chain_id from supported_chains)\n",
    "    )\n",
    "    select * from unsupported_chains\n",
    "\"\"\"\n",
    "res = ctx.execute(sql).collect()\n",
    "res"
   ]
  },
  {
   "cell_type": "code",
   "execution_count": 36,
   "metadata": {},
   "outputs": [
    {
     "data": {
      "text/plain": [
       "(1729, 3)"
      ]
     },
     "execution_count": 36,
     "metadata": {},
     "output_type": "execute_result"
    }
   ],
   "source": [
    "import json\n",
    "\n",
    "# Read the JSON file\n",
    "file = os.path.join(\"..\", \"data\", \"common\", \"chain_info.json\")\n",
    "with open(file, 'r') as f:\n",
    "    data = json.load(f)\n",
    "\n",
    "# Access the nested data\n",
    "chains = data['props']['pageProps']['chains']\n",
    "\n",
    "# Convert to a Polars DataFrame if needed\n",
    "df = pl.DataFrame(chains)\n",
    "ctx = pl.SQLContext()\n",
    "ctx.register(\"df\", df)\n",
    "sql = \"\"\"\n",
    "    select chainId,name as chain_name, shortName\n",
    "    from df\n",
    "\"\"\"\n",
    "res = ctx.execute(sql).collect()\n",
    "\n",
    "res.write_csv(os.path.join(\"..\", \"data\", \"common\", \"chain_info.csv\"))\n",
    "res.shape"
   ]
  }
 ],
 "metadata": {
  "kernelspec": {
   "display_name": ".venv",
   "language": "python",
   "name": "python3"
  },
  "language_info": {
   "codemirror_mode": {
    "name": "ipython",
    "version": 3
   },
   "file_extension": ".py",
   "mimetype": "text/x-python",
   "name": "python",
   "nbconvert_exporter": "python",
   "pygments_lexer": "ipython3",
   "version": "3.11.5"
  }
 },
 "nbformat": 4,
 "nbformat_minor": 2
}
